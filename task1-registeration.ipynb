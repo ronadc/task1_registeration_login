{
 "cells": [
  {
   "cell_type": "code",
   "execution_count": 5,
   "id": "4664e9b1",
   "metadata": {},
   "outputs": [],
   "source": [
    "import re\n"
   ]
  },
  {
   "cell_type": "code",
   "execution_count": 8,
   "id": "bb87db0e",
   "metadata": {},
   "outputs": [
    {
     "name": "stdout",
     "output_type": "stream",
     "text": [
      "1.Registeration 2.Login:1\n",
      "Enter your email ID to register:sanj@gmail.com\n",
      "Create a password:Sanj00*\n",
      "Successfully registered!!\n"
     ]
    }
   ],
   "source": [
    "def login():\n",
    "    emailID = input(\"Enter your emailID:\")\n",
    "    pas = input(\"Enter your password:\")\n",
    "    credentials = emailID + \",\" + pas \n",
    "    file = open(\"data.txt\",\"r\")\n",
    "    \n",
    "    for i in file.readlines():\n",
    "        if (credentials  == i.strip()):\n",
    "            print(\"Yayy!! Successfully logged in\")\n",
    "        \n",
    "            return\n",
    "            \n",
    "    \n",
    "    print(\"\\n\"+\"Oopsiee!! Invalid email ID or password.\")\n",
    "    print(\"   1.Try again\")\n",
    "    print(\"   2.Forgot password\")\n",
    "    print(\"   3.Register\")\n",
    "    ch = input(\"Your choice: \")\n",
    "    if (ch == \"1\"):\n",
    "        login()\n",
    "    elif(ch == \"2\"):\n",
    "        print(\"hi\")\n",
    "        file = open(\"data.txt\",\"r\")\n",
    "        for i in file.readlines():\n",
    "            a,b = i.split(\",\")\n",
    "            if (emailID == a.strip()):\n",
    "                print(\"Your password is \" + b + \"\\n Try and login again.\")\n",
    "                file.close()\n",
    "                login()\n",
    "                break\n",
    "        else:\n",
    "            print(\"Your id: \" + emailID + \" is not registered. Please register\")\n",
    "            create_emailID()\n",
    "            return\n",
    "            \n",
    "    elif(ch == \"3\"):\n",
    "        create_emailID()\n",
    "    else:\n",
    "        print(\"Invalid choice!!!\")\n",
    "   \n",
    "    \n",
    "    \n",
    "    \n",
    "def create_pass():\n",
    "    pas = input(\"Create a password:\")\n",
    "    if (len(pas) < 5 or len(pas) > 16):\n",
    "        print(\"Invalid.Enter a password of length more than 5 and lesser than 16\")\n",
    "        create_pass()\n",
    "    elif (all([re.findall(r\"[a-z]\",pas), re.findall(r\"[A-Z]\",pas), re.findall(r\"[0-9]\",pas), re.findall(r\"[!@#$%^&*]\",pas)])):\n",
    "            file = open(\"data.txt\",\"a\")\n",
    "            file.write(pas+\"\\n\")\n",
    "            file.close()\n",
    "            print(\"Successfully registered!!\")\n",
    "            return True\n",
    "    else:\n",
    "        print(\"Weak password. Please try again!\")\n",
    "        create_pass()\n",
    "   \n",
    "\n",
    "\n",
    "def create_emailID():\n",
    "    emailID = input(\"Enter your email ID to register:\")\n",
    "    if (re.findall(r\"^[a-z]+\\@+[a-z]+\\.+com\",emailID)):\n",
    "        file = open(\"data.txt\",\"a\")\n",
    "        file.write(emailID+\",\")\n",
    "        file.close()\n",
    "        create_pass()\n",
    "        return True\n",
    "    else:\n",
    "        print(\"Oopsiee!!! Invalid email ID. Please try again!\")\n",
    "        create_emailID()\n",
    "\n",
    "def home():\n",
    "    ch = input(\"1.Registeration 2.Login:\")\n",
    "    if (ch == \"1\"):\n",
    "        create_emailID()\n",
    "    elif (ch == \"2\"):\n",
    "        login()\n",
    "home()        "
   ]
  },
  {
   "cell_type": "code",
   "execution_count": null,
   "id": "5f0be93b",
   "metadata": {},
   "outputs": [],
   "source": []
  },
  {
   "cell_type": "code",
   "execution_count": null,
   "id": "74c6e44a",
   "metadata": {},
   "outputs": [],
   "source": []
  }
 ],
 "metadata": {
  "kernelspec": {
   "display_name": "Python 3 (ipykernel)",
   "language": "python",
   "name": "python3"
  },
  "language_info": {
   "codemirror_mode": {
    "name": "ipython",
    "version": 3
   },
   "file_extension": ".py",
   "mimetype": "text/x-python",
   "name": "python",
   "nbconvert_exporter": "python",
   "pygments_lexer": "ipython3",
   "version": "3.9.7"
  }
 },
 "nbformat": 4,
 "nbformat_minor": 5
}
